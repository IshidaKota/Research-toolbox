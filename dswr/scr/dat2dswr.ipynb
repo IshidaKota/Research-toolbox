{
 "cells": [
  {
   "cell_type": "code",
   "execution_count": 93,
   "id": "d4dbc911",
   "metadata": {},
   "outputs": [],
   "source": [
    "from glob import glob\n",
    "import pandas as pd\n",
    "from datetime import datetime as dt\n",
    "from datetime import timedelta\n",
    "import codecs\n"
   ]
  },
  {
   "cell_type": "markdown",
   "id": "f28c129d",
   "metadata": {},
   "source": [
    "DL DOWNWORD LONGWAVE RADIATION　長波放射\n",
    "DR DIRECT SOLAR RADIATION 短波放射\n",
    "\n",
    "TATENO　140.8008 36.8003\n",
    "unit: 0.01MJ/m^2"
   ]
  },
  {
   "cell_type": "code",
   "execution_count": 94,
   "id": "fb27ccfe",
   "metadata": {
    "scrolled": true
   },
   "outputs": [
    {
     "name": "stdout",
     "output_type": "stream",
     "text": [
      "['../data\\\\DL_202001_tat.txt', '../data\\\\DL_202002_tat.txt', '../data\\\\DL_202003_tat.txt', '../data\\\\DL_202004_tat.txt', '../data\\\\DL_202005_tat.txt', '../data\\\\DL_202006_tat.txt', '../data\\\\DL_202007_tat.txt', '../data\\\\DL_202008_tat.txt', '../data\\\\DL_202009_tat.txt', '../data\\\\DL_202010_tat.txt', '../data\\\\DL_202011_tat.txt', '../data\\\\DL_202012_tat.txt']\n"
     ]
    }
   ],
   "source": [
    "#test\n",
    "#path = '../data/DL_202001_tat.txt'\n",
    "paths =glob('../data/'+'DL_2020'+'*') #datがあるpathを指定してください！'utf-8','ignore'\n",
    "print(paths)\n",
    "def hourly_dat(paths):\n",
    "    dat = []\n",
    "    for path in paths:\n",
    "        with codecs.open(path,'r') as f:\n",
    "                l = f.readlines()\n",
    "                for i in range(18,len(l)-11): #月によって行数が異なるため、時刻データが終了した次の行には'-'が含まれる\n",
    "                    if l[i][15] != '-':\n",
    "                        dat.append(l[i])\n",
    "                    else:\n",
    "                        break\n",
    "        #for i in range(len(dat[0])):\n",
    "        #    print(i,dat[0][i])\n",
    "        hourly = []\n",
    "        for i in range(len(dat)):\n",
    "            for j in range(23,143,5):\n",
    "                hourly.append(dat[i][j-3]+dat[i][j-2]+ dat[i][j-1] +dat[i][j])\n",
    "    return hourly\n",
    "     "
   ]
  },
  {
   "cell_type": "code",
   "execution_count": 95,
   "id": "07a8855c",
   "metadata": {},
   "outputs": [],
   "source": [
    "paths1 =glob('../data/'+'DL_2020'+'*')\n",
    "paths2 =glob('../data/'+'DR_2020'+'*')\n",
    "hourly_DL = hourly_dat(paths1)\n",
    "hourly_DR = hourly_dat(paths2)\n",
    "hourly_DR_n = [hourly_DR[i].replace('...','0') for i in range(len(hourly_DR))]\n",
    "dswr = [(float(hourly_DL[i]) + float(hourly_DR_n[i]))*10/3600 for i in range(len(hourly_DL))]"
   ]
  },
  {
   "cell_type": "code",
   "execution_count": 96,
   "id": "63ed1c3f",
   "metadata": {},
   "outputs": [
    {
     "data": {
      "text/html": [
       "<div>\n",
       "<style scoped>\n",
       "    .dataframe tbody tr th:only-of-type {\n",
       "        vertical-align: middle;\n",
       "    }\n",
       "\n",
       "    .dataframe tbody tr th {\n",
       "        vertical-align: top;\n",
       "    }\n",
       "\n",
       "    .dataframe thead th {\n",
       "        text-align: right;\n",
       "    }\n",
       "</style>\n",
       "<table border=\"1\" class=\"dataframe\">\n",
       "  <thead>\n",
       "    <tr style=\"text-align: right;\">\n",
       "      <th></th>\n",
       "      <th>dswr</th>\n",
       "    </tr>\n",
       "  </thead>\n",
       "  <tbody>\n",
       "    <tr>\n",
       "      <th>2020-01-01T01:00:00</th>\n",
       "      <td>0.219444</td>\n",
       "    </tr>\n",
       "    <tr>\n",
       "      <th>2020-01-01T02:00:00</th>\n",
       "      <td>0.222222</td>\n",
       "    </tr>\n",
       "    <tr>\n",
       "      <th>2020-01-01T03:00:00</th>\n",
       "      <td>0.222222</td>\n",
       "    </tr>\n",
       "    <tr>\n",
       "      <th>2020-01-01T04:00:00</th>\n",
       "      <td>0.233333</td>\n",
       "    </tr>\n",
       "    <tr>\n",
       "      <th>2020-01-01T05:00:00</th>\n",
       "      <td>0.288889</td>\n",
       "    </tr>\n",
       "    <tr>\n",
       "      <th>...</th>\n",
       "      <td>...</td>\n",
       "    </tr>\n",
       "    <tr>\n",
       "      <th>2020-12-31T20:00:00</th>\n",
       "      <td>0.222222</td>\n",
       "    </tr>\n",
       "    <tr>\n",
       "      <th>2020-12-31T21:00:00</th>\n",
       "      <td>0.222222</td>\n",
       "    </tr>\n",
       "    <tr>\n",
       "      <th>2020-12-31T22:00:00</th>\n",
       "      <td>0.216667</td>\n",
       "    </tr>\n",
       "    <tr>\n",
       "      <th>2020-12-31T23:00:00</th>\n",
       "      <td>0.219444</td>\n",
       "    </tr>\n",
       "    <tr>\n",
       "      <th>2021-01-01T00:00:00</th>\n",
       "      <td>0.216667</td>\n",
       "    </tr>\n",
       "  </tbody>\n",
       "</table>\n",
       "<p>8784 rows × 1 columns</p>\n",
       "</div>"
      ],
      "text/plain": [
       "                         dswr\n",
       "2020-01-01T01:00:00  0.219444\n",
       "2020-01-01T02:00:00  0.222222\n",
       "2020-01-01T03:00:00  0.222222\n",
       "2020-01-01T04:00:00  0.233333\n",
       "2020-01-01T05:00:00  0.288889\n",
       "...                       ...\n",
       "2020-12-31T20:00:00  0.222222\n",
       "2020-12-31T21:00:00  0.222222\n",
       "2020-12-31T22:00:00  0.216667\n",
       "2020-12-31T23:00:00  0.219444\n",
       "2021-01-01T00:00:00  0.216667\n",
       "\n",
       "[8784 rows x 1 columns]"
      ]
     },
     "execution_count": 96,
     "metadata": {},
     "output_type": "execute_result"
    }
   ],
   "source": [
    "datelist = []\n",
    "start_time = '2020/1/1'\n",
    "for x in range(len(hourly)):\n",
    "    t = dt.strptime(start_time, '%Y/%m/%d')+ timedelta(hours=1) \\\n",
    "                    +timedelta(hours=x) #初期時間からhours=xだけずらした時間\n",
    "    t = t.strftime('%Y-%m-%dT%H:%M:%S') #書式の変換 # 2020-01-01T01:00:00\n",
    "\n",
    "    datelist.append(t)\n",
    "df = pd.DataFrame()            \n",
    "#create df\n",
    "df.index = datelist\n",
    "df['dswr'] = dswr\n",
    "df.to_csv('Chiba_2020_dswr.csv')\n",
    "df"
   ]
  },
  {
   "cell_type": "code",
   "execution_count": null,
   "id": "132faac1",
   "metadata": {},
   "outputs": [],
   "source": []
  }
 ],
 "metadata": {
  "kernelspec": {
   "display_name": "Python 3 (ipykernel)",
   "language": "python",
   "name": "python3"
  },
  "language_info": {
   "codemirror_mode": {
    "name": "ipython",
    "version": 3
   },
   "file_extension": ".py",
   "mimetype": "text/x-python",
   "name": "python",
   "nbconvert_exporter": "python",
   "pygments_lexer": "ipython3",
   "version": "3.10.6"
  }
 },
 "nbformat": 4,
 "nbformat_minor": 5
}
